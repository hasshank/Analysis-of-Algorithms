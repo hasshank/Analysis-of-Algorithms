{
  "nbformat": 4,
  "nbformat_minor": 0,
  "metadata": {
    "colab": {
      "provenance": []
    },
    "kernelspec": {
      "name": "python3",
      "display_name": "Python 3"
    },
    "language_info": {
      "name": "python"
    }
  },
  "cells": [
    {
      "cell_type": "code",
      "execution_count": null,
      "metadata": {
        "id": "QipRsswKHbc7"
      },
      "outputs": [],
      "source": [
        "from collections import deque\n",
        "\n",
        "def breadth_first_search(graph, root):\n",
        "\tvisited_vertices = list()\n",
        "\tgraph_queue = deque([root])\n",
        "\tvisited_vertices.append(root)\n",
        "\tnode = root\n",
        "\n",
        "\twhile len(graph_queue) > 0:\n",
        "\t\tnode = graph_queue.popleft()\n",
        "\t\tadj_nodes = graph[node]\n",
        "\n",
        "\t\tremaining_elements = set(adj_nodes).difference(set(visited_vertices))\n",
        "\t\tif len(remaining_elements) > 0:\n",
        "\t\t\tfor elem in sorted(remaining_elements):\n",
        "\t\t\t\tvisited_vertices.append(elem)\n",
        "\t\t\t\tgraph_queue.append(elem)\n",
        "\n",
        "  return visited_vertices\n",
        "\n",
        "\n",
        "graph = dict()\n",
        "graph[‘A’] = [‘B’, ‘C’]\n",
        "graph[‘B’] = [‘E’, ‘C’, ‘A’]\n",
        "graph[‘C’] = [‘A’, ‘B’, ‘E’, ‘F’]\n",
        "graph[‘E’] = [‘B’, ‘C’]\n",
        "graph[‘F’] = [‘C’]\n",
        "\n",
        "// pseudocode\n",
        "\n",
        "mst_kruskal(G, w)\n",
        "\n",
        "  A = empty\n",
        "  for each vertex v in G, V\n",
        "    Make set v\n",
        "  create single list of edges in G, E\n",
        "  sort the list of edges monotically increasing order by weight w\n",
        "  for each edge(u,v) taken from the sorted list in order\n",
        "    if find_set(u) != find_set(v)\n",
        "      A = A U (u,v)\n",
        "      union (u,v)\n",
        "  return A\n",
        "\n",
        "\n",
        "mst_prim(G, w, r)\n",
        "\n",
        "  for each vertex u in G, V\n",
        "    u.key = infinity\n",
        "    u.pi = NIL\n",
        "  r.key = 0\n",
        "  Q = empty\n",
        "  for each vertex u in G, V\n",
        "    insert (Q, u)\n",
        "  while Q != empty\n",
        "    u = extract_min(Q)\n",
        "    for each vertex v in G.Adj[u]\n",
        "      if v in Q and w(u,v) < v.key\n",
        "        v.pi = u\n",
        "        v.key = w(u, v)\n",
        "        decease_key(Q, v, w(u,v))"
      ]
    }
  ]
}
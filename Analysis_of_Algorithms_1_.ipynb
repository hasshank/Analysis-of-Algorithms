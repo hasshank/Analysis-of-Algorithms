{
  "nbformat": 4,
  "nbformat_minor": 0,
  "metadata": {
    "colab": {
      "provenance": []
    },
    "kernelspec": {
      "name": "python3",
      "display_name": "Python 3"
    },
    "language_info": {
      "name": "python"
    }
  },
  "cells": [
    {
      "cell_type": "code",
      "execution_count": 15,
      "metadata": {
        "id": "Ycb8z5mP8L0L"
      },
      "outputs": [],
      "source": [
        "def find_max_1_by_comparator(arr):\n",
        "  if len(arr) == 0:\n",
        "    return None\n",
        "  max = arr[0]\n",
        "  for i in range(1, len(arr)):\n",
        "    if arr[i] > max:\n",
        "      max = arr[i]\n",
        "  return max"
      ]
    },
    {
      "cell_type": "code",
      "source": [
        "my_array = [10, 5, 15, 2, 8]\n",
        "print(len(my_array))\n",
        "largest_element = find_max_1_by_comparator(my_array)\n",
        "print(f\"The largest element in the array is: {largest_element}\")"
      ],
      "metadata": {
        "colab": {
          "base_uri": "https://localhost:8080/"
        },
        "id": "LGH_llfv8hOa",
        "outputId": "d5b613a3-b88c-45e5-cd81-214c429c3f77"
      },
      "execution_count": 16,
      "outputs": [
        {
          "output_type": "stream",
          "name": "stdout",
          "text": [
            "5\n",
            "The largest element in the array is: 15\n"
          ]
        }
      ]
    },
    {
      "cell_type": "code",
      "source": [],
      "metadata": {
        "id": "MzQLwQeu9AA6"
      },
      "execution_count": null,
      "outputs": []
    },
    {
      "cell_type": "code",
      "source": [
        "def find_max_tournament_technique(array, start, end):\n",
        "  if start == end:\n",
        "    return (array[start])\n",
        "  else:\n",
        "    middle = (start + end) // 2\n",
        "    left_max = find_max_tournament_technique(array, start, middle)\n",
        "    right_max = find_max_tournament_technique(array, middle + 1, end)\n",
        "    return max(left_max, right_max)"
      ],
      "metadata": {
        "id": "bOpDFNl49DRt"
      },
      "execution_count": 17,
      "outputs": []
    },
    {
      "cell_type": "code",
      "source": [
        "my_array = [10, 5, 15, 2, 8]\n",
        "\n",
        "start = 0\n",
        "end = len(my_array) - 1\n",
        "max_number = find_max_tournament_technique(my_array, start, end)\n",
        "\n",
        "print('max', max_number)"
      ],
      "metadata": {
        "colab": {
          "base_uri": "https://localhost:8080/"
        },
        "id": "-Ikd8dge9brK",
        "outputId": "47ada35a-dc56-434d-d7c0-87f2f74e8c18"
      },
      "execution_count": 18,
      "outputs": [
        {
          "output_type": "stream",
          "name": "stdout",
          "text": [
            "max 15\n"
          ]
        }
      ]
    },
    {
      "cell_type": "code",
      "source": [],
      "metadata": {
        "id": "koPbks4L9wFk"
      },
      "execution_count": null,
      "outputs": []
    },
    {
      "cell_type": "code",
      "source": [
        "def min_max_brute_force(array):\n",
        "  min_number = arr[0]\n",
        "  max_number = arr[0]\n",
        "\n",
        "  for i in range(1, len(arr)):\n",
        "    if arr[i] < min_number:\n",
        "      min_number = arr[i]\n",
        "    elif arr[i] > max_number:\n",
        "      max_number = arr[i]\n",
        "\n",
        "  return min_number, max_number"
      ],
      "metadata": {
        "id": "WQKCRz98919P"
      },
      "execution_count": 7,
      "outputs": []
    },
    {
      "cell_type": "code",
      "source": [
        "arr = [68,43,200,87,55,-10,12,51,36,97,64,52,0,87,-46,70]\n",
        "print(min_max_brute_force(arr))\n",
        "print(\"Min:\", min_max_brute_force(arr)[0])\n",
        "print(\"Max:\", min_max_brute_force(arr)[1])"
      ],
      "metadata": {
        "colab": {
          "base_uri": "https://localhost:8080/"
        },
        "id": "h3hgw4iM-rb8",
        "outputId": "fdff5fbb-d856-4d32-ebcf-ce77b2be5c8c"
      },
      "execution_count": 8,
      "outputs": [
        {
          "output_type": "stream",
          "name": "stdout",
          "text": [
            "(-46, 200)\n",
            "Min: -46\n",
            "Max: 200\n"
          ]
        }
      ]
    },
    {
      "cell_type": "code",
      "source": [],
      "metadata": {
        "id": "LBWxuwdb_FFi"
      },
      "execution_count": null,
      "outputs": []
    },
    {
      "cell_type": "code",
      "source": [
        "def tournanent_min_max(array, start, end):\n",
        "  if start == end:\n",
        "    return (array[start], array[end])\n",
        "\n",
        "  elif end - start == 1:\n",
        "    min_number = min(array[start], array[end])\n",
        "    max_number = max(array[start], array[end])\n",
        "    return (min_number, max_number)\n",
        "\n",
        "  else:\n",
        "      middle = (start + end) // 2\n",
        "      min_left, max_left = tournanent_min_max(array, start, middle)\n",
        "      min_right, max_right = tournanent_min_max(array, middle + 1, end)\n",
        "\n",
        "  return (min(min_left, min_right), max(max_left, max_right))"
      ],
      "metadata": {
        "id": "rFfIMfoZAotV"
      },
      "execution_count": 9,
      "outputs": []
    },
    {
      "cell_type": "code",
      "source": [
        "numbers = [68,43,67,87,55,-10,12,51,36,97,64,52,0,87,-46,70]\n",
        "start = 0\n",
        "end = len(numbers) - 1\n",
        "\n",
        "min_number, max_number = tournanent_min_max(numbers, start, end)\n",
        "\n",
        "print('min:', min_number, 'max', max_number)"
      ],
      "metadata": {
        "colab": {
          "base_uri": "https://localhost:8080/"
        },
        "id": "ocrOQX-cHBpl",
        "outputId": "68fc060f-9689-4dca-b0b4-86ecd74fbcf8"
      },
      "execution_count": 10,
      "outputs": [
        {
          "output_type": "stream",
          "name": "stdout",
          "text": [
            "min: -46 max 97\n"
          ]
        }
      ]
    },
    {
      "cell_type": "code",
      "source": [],
      "metadata": {
        "id": "YRJcDvWFHZeb"
      },
      "execution_count": null,
      "outputs": []
    },
    {
      "cell_type": "code",
      "source": [
        "def min_max_pairwise(arr):\n",
        "  if ((len(arr) % 2) != 0):\n",
        "    min = arr[0]\n",
        "    max = arr[0]\n",
        "    init_range = 1\n",
        "  else:\n",
        "    if (arr[0] > arr[1]):\n",
        "      min = arr[1]\n",
        "      max = arr[0]\n",
        "    else:\n",
        "      min = arr[0]\n",
        "      max = arr[1]\n",
        "    init_range = 2\n",
        "\n",
        "  for i in range(init_range, len(arr) - 1, 2):\n",
        "    if (arr[i] < arr[i + 1]):\n",
        "      if (arr[i] < min):\n",
        "        min = arr[i]\n",
        "      if (arr[i + 1] > max):\n",
        "        max = arr[i + 1]\n",
        "    else:\n",
        "      if (arr[i] > max):\n",
        "        max = arr[i]\n",
        "      if (arr[i + 1] < min):\n",
        "        min = arr[i + 1]\n",
        "  return min, max"
      ],
      "metadata": {
        "id": "E5NRKpswHtbV"
      },
      "execution_count": 13,
      "outputs": []
    },
    {
      "cell_type": "code",
      "source": [
        "array = [68,43,67,87,55,-10,12,51,36,97,64,52,0,87,-46,70]\n",
        "\n",
        "min_number, max_number = min_max_pairwise(array)\n",
        "\n",
        "print('min:', min_number, 'max', max_number)"
      ],
      "metadata": {
        "colab": {
          "base_uri": "https://localhost:8080/"
        },
        "id": "nN5zue-vJURI",
        "outputId": "aa0877f2-8132-4344-b1d2-aa1be0fc98e3"
      },
      "execution_count": 14,
      "outputs": [
        {
          "output_type": "stream",
          "name": "stdout",
          "text": [
            "min: -46 max 97\n"
          ]
        }
      ]
    },
    {
      "cell_type": "code",
      "source": [],
      "metadata": {
        "id": "Rgs0a55QJbo-"
      },
      "execution_count": null,
      "outputs": []
    }
  ]
}